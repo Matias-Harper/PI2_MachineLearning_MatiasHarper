{
 "cells": [
  {
   "cell_type": "markdown",
   "metadata": {},
   "source": [
    "# Segundo Archivo\n",
    "Se analiza y procesan los datos de test para una vez entrenado nuestro modelo poder realizar la predicción que busca este trabajo"
   ]
  },
  {
   "cell_type": "code",
   "execution_count": 2,
   "metadata": {},
   "outputs": [],
   "source": [
    "import pandas as pd\n",
    "test_df = pd.read_csv(r\"./properties_colombia_test.csv\")"
   ]
  },
  {
   "cell_type": "code",
   "execution_count": 2,
   "metadata": {},
   "outputs": [
    {
     "data": {
      "text/plain": [
       "Index(['Unnamed: 0', 'id', 'ad_type', 'start_date', 'end_date', 'created_on',\n",
       "       'lat', 'lon', 'l1', 'l2', 'l3', 'l4', 'l5', 'l6', 'rooms', 'bedrooms',\n",
       "       'bathrooms', 'surface_total', 'surface_covered', 'currency',\n",
       "       'price_period', 'title', 'description', 'property_type',\n",
       "       'operation_type', 'geometry'],\n",
       "      dtype='object')"
      ]
     },
     "execution_count": 2,
     "metadata": {},
     "output_type": "execute_result"
    }
   ],
   "source": [
    "test_df.columns"
   ]
  },
  {
   "cell_type": "code",
   "execution_count": 3,
   "metadata": {},
   "outputs": [
    {
     "data": {
      "text/html": [
       "<div>\n",
       "<style scoped>\n",
       "    .dataframe tbody tr th:only-of-type {\n",
       "        vertical-align: middle;\n",
       "    }\n",
       "\n",
       "    .dataframe tbody tr th {\n",
       "        vertical-align: top;\n",
       "    }\n",
       "\n",
       "    .dataframe thead th {\n",
       "        text-align: right;\n",
       "    }\n",
       "</style>\n",
       "<table border=\"1\" class=\"dataframe\">\n",
       "  <thead>\n",
       "    <tr style=\"text-align: right;\">\n",
       "      <th></th>\n",
       "      <th>Unnamed: 0</th>\n",
       "      <th>id</th>\n",
       "      <th>ad_type</th>\n",
       "      <th>start_date</th>\n",
       "      <th>end_date</th>\n",
       "      <th>created_on</th>\n",
       "      <th>lat</th>\n",
       "      <th>lon</th>\n",
       "      <th>l1</th>\n",
       "      <th>l2</th>\n",
       "      <th>...</th>\n",
       "      <th>bathrooms</th>\n",
       "      <th>surface_total</th>\n",
       "      <th>surface_covered</th>\n",
       "      <th>currency</th>\n",
       "      <th>price_period</th>\n",
       "      <th>title</th>\n",
       "      <th>description</th>\n",
       "      <th>property_type</th>\n",
       "      <th>operation_type</th>\n",
       "      <th>geometry</th>\n",
       "    </tr>\n",
       "  </thead>\n",
       "  <tbody>\n",
       "    <tr>\n",
       "      <th>0</th>\n",
       "      <td>852569</td>\n",
       "      <td>pCiVu6rxpBq9dCZfYCXXgA==</td>\n",
       "      <td>Propiedad</td>\n",
       "      <td>2020-09-04</td>\n",
       "      <td>2020-09-12</td>\n",
       "      <td>2020-09-04</td>\n",
       "      <td>4.722000</td>\n",
       "      <td>-74.075000</td>\n",
       "      <td>Colombia</td>\n",
       "      <td>Cundinamarca</td>\n",
       "      <td>...</td>\n",
       "      <td>3.0</td>\n",
       "      <td>660.0</td>\n",
       "      <td>350.0</td>\n",
       "      <td>COP</td>\n",
       "      <td>NaN</td>\n",
       "      <td>Casa En Arriendo/venta En Bogota Sotileza Cod....</td>\n",
       "      <td>EXCLUSIVA CASA EN VENTA Y ARRIENDO, UBICADA EN...</td>\n",
       "      <td>Casa</td>\n",
       "      <td>Venta</td>\n",
       "      <td>POINT (-74.075 4.722)</td>\n",
       "    </tr>\n",
       "    <tr>\n",
       "      <th>1</th>\n",
       "      <td>121379</td>\n",
       "      <td>L0XSQ7mF1TWb1lHRg4n2+A==</td>\n",
       "      <td>Propiedad</td>\n",
       "      <td>2020-10-20</td>\n",
       "      <td>2020-10-20</td>\n",
       "      <td>2020-10-20</td>\n",
       "      <td>NaN</td>\n",
       "      <td>NaN</td>\n",
       "      <td>Colombia</td>\n",
       "      <td>Antioquia</td>\n",
       "      <td>...</td>\n",
       "      <td>3.0</td>\n",
       "      <td>NaN</td>\n",
       "      <td>NaN</td>\n",
       "      <td>COP</td>\n",
       "      <td>Mensual</td>\n",
       "      <td>SE VENDE APARTAMENTO EN EL SECTOR DE ZUÑIGA-EN...</td>\n",
       "      <td>PR 7555. Apartamento Duplex en unidad cerrada,...</td>\n",
       "      <td>Apartamento</td>\n",
       "      <td>Venta</td>\n",
       "      <td>POINT EMPTY</td>\n",
       "    </tr>\n",
       "    <tr>\n",
       "      <th>2</th>\n",
       "      <td>119504</td>\n",
       "      <td>FbWRxZOMNoUzVOLXgkum1A==</td>\n",
       "      <td>Propiedad</td>\n",
       "      <td>2020-10-20</td>\n",
       "      <td>2020-10-22</td>\n",
       "      <td>2020-10-20</td>\n",
       "      <td>6.259253</td>\n",
       "      <td>-75.628381</td>\n",
       "      <td>Colombia</td>\n",
       "      <td>Antioquia</td>\n",
       "      <td>...</td>\n",
       "      <td>1.0</td>\n",
       "      <td>NaN</td>\n",
       "      <td>NaN</td>\n",
       "      <td>COP</td>\n",
       "      <td>NaN</td>\n",
       "      <td>Casa Barata San Javier Solo por este mes</td>\n",
       "      <td>Casa compraventa escrituras en \\n proceso,sala...</td>\n",
       "      <td>Casa</td>\n",
       "      <td>Venta</td>\n",
       "      <td>POINT (-75.6283806 6.25925267)</td>\n",
       "    </tr>\n",
       "    <tr>\n",
       "      <th>3</th>\n",
       "      <td>227304</td>\n",
       "      <td>RUV1P+3UOmNdlJ9fBdWFyw==</td>\n",
       "      <td>Propiedad</td>\n",
       "      <td>2020-12-10</td>\n",
       "      <td>9999-12-31</td>\n",
       "      <td>2020-12-10</td>\n",
       "      <td>6.203000</td>\n",
       "      <td>-75.556000</td>\n",
       "      <td>Colombia</td>\n",
       "      <td>Antioquia</td>\n",
       "      <td>...</td>\n",
       "      <td>NaN</td>\n",
       "      <td>2793.0</td>\n",
       "      <td>NaN</td>\n",
       "      <td>COP</td>\n",
       "      <td>NaN</td>\n",
       "      <td>Lote En Venta En Medellin La Calera Cod. VRPR6330</td>\n",
       "      <td>CODIGO 6330LOTE PARA LA VENTA DE 2793MTS</td>\n",
       "      <td>Lote</td>\n",
       "      <td>Venta</td>\n",
       "      <td>POINT (-75.556 6.203)</td>\n",
       "    </tr>\n",
       "    <tr>\n",
       "      <th>4</th>\n",
       "      <td>228600</td>\n",
       "      <td>ifKutEAhyovuDNeYrFFV+A==</td>\n",
       "      <td>Propiedad</td>\n",
       "      <td>2020-12-10</td>\n",
       "      <td>2020-12-11</td>\n",
       "      <td>2020-12-10</td>\n",
       "      <td>NaN</td>\n",
       "      <td>NaN</td>\n",
       "      <td>Colombia</td>\n",
       "      <td>Antioquia</td>\n",
       "      <td>...</td>\n",
       "      <td>2.0</td>\n",
       "      <td>NaN</td>\n",
       "      <td>NaN</td>\n",
       "      <td>COP</td>\n",
       "      <td>NaN</td>\n",
       "      <td>Casa en Venta Ubicado en MEDELLIN</td>\n",
       "      <td>Codigo Inmueble 505457 Casa en venta en el sec...</td>\n",
       "      <td>Casa</td>\n",
       "      <td>Venta</td>\n",
       "      <td>POINT EMPTY</td>\n",
       "    </tr>\n",
       "  </tbody>\n",
       "</table>\n",
       "<p>5 rows × 26 columns</p>\n",
       "</div>"
      ],
      "text/plain": [
       "   Unnamed: 0                        id    ad_type  start_date    end_date  \\\n",
       "0      852569  pCiVu6rxpBq9dCZfYCXXgA==  Propiedad  2020-09-04  2020-09-12   \n",
       "1      121379  L0XSQ7mF1TWb1lHRg4n2+A==  Propiedad  2020-10-20  2020-10-20   \n",
       "2      119504  FbWRxZOMNoUzVOLXgkum1A==  Propiedad  2020-10-20  2020-10-22   \n",
       "3      227304  RUV1P+3UOmNdlJ9fBdWFyw==  Propiedad  2020-12-10  9999-12-31   \n",
       "4      228600  ifKutEAhyovuDNeYrFFV+A==  Propiedad  2020-12-10  2020-12-11   \n",
       "\n",
       "   created_on       lat        lon        l1            l2  ... bathrooms  \\\n",
       "0  2020-09-04  4.722000 -74.075000  Colombia  Cundinamarca  ...       3.0   \n",
       "1  2020-10-20       NaN        NaN  Colombia     Antioquia  ...       3.0   \n",
       "2  2020-10-20  6.259253 -75.628381  Colombia     Antioquia  ...       1.0   \n",
       "3  2020-12-10  6.203000 -75.556000  Colombia     Antioquia  ...       NaN   \n",
       "4  2020-12-10       NaN        NaN  Colombia     Antioquia  ...       2.0   \n",
       "\n",
       "  surface_total surface_covered currency  price_period  \\\n",
       "0         660.0           350.0      COP           NaN   \n",
       "1           NaN             NaN      COP       Mensual   \n",
       "2           NaN             NaN      COP           NaN   \n",
       "3        2793.0             NaN      COP           NaN   \n",
       "4           NaN             NaN      COP           NaN   \n",
       "\n",
       "                                               title  \\\n",
       "0  Casa En Arriendo/venta En Bogota Sotileza Cod....   \n",
       "1  SE VENDE APARTAMENTO EN EL SECTOR DE ZUÑIGA-EN...   \n",
       "2           Casa Barata San Javier Solo por este mes   \n",
       "3  Lote En Venta En Medellin La Calera Cod. VRPR6330   \n",
       "4                  Casa en Venta Ubicado en MEDELLIN   \n",
       "\n",
       "                                         description  property_type  \\\n",
       "0  EXCLUSIVA CASA EN VENTA Y ARRIENDO, UBICADA EN...           Casa   \n",
       "1  PR 7555. Apartamento Duplex en unidad cerrada,...    Apartamento   \n",
       "2  Casa compraventa escrituras en \\n proceso,sala...           Casa   \n",
       "3           CODIGO 6330LOTE PARA LA VENTA DE 2793MTS           Lote   \n",
       "4  Codigo Inmueble 505457 Casa en venta en el sec...           Casa   \n",
       "\n",
       "   operation_type                        geometry  \n",
       "0           Venta           POINT (-74.075 4.722)  \n",
       "1           Venta                     POINT EMPTY  \n",
       "2           Venta  POINT (-75.6283806 6.25925267)  \n",
       "3           Venta           POINT (-75.556 6.203)  \n",
       "4           Venta                     POINT EMPTY  \n",
       "\n",
       "[5 rows x 26 columns]"
      ]
     },
     "execution_count": 3,
     "metadata": {},
     "output_type": "execute_result"
    }
   ],
   "source": [
    "test_df.head()"
   ]
  },
  {
   "cell_type": "code",
   "execution_count": 4,
   "metadata": {},
   "outputs": [
    {
     "data": {
      "text/plain": [
       "(65850, 26)"
      ]
     },
     "execution_count": 4,
     "metadata": {},
     "output_type": "execute_result"
    }
   ],
   "source": [
    "#Por la dinámica del ejercicio no podemos variar la cantidad de filas del DataFrame\n",
    "test_df.shape"
   ]
  },
  {
   "cell_type": "code",
   "execution_count": 7,
   "metadata": {},
   "outputs": [],
   "source": [
    "#Limitamos el test_df a las columnas que utilizaremos en el entrenamiento \n",
    "test_df = test_df[[\"property_type\",\"l2\",'lat', \"lon\",'bedrooms',\"bathrooms\"]] "
   ]
  },
  {
   "cell_type": "code",
   "execution_count": 8,
   "metadata": {},
   "outputs": [
    {
     "data": {
      "text/plain": [
       "property_type        0\n",
       "l2                   0\n",
       "lat              16417\n",
       "lon              16417\n",
       "bedrooms         52447\n",
       "bathrooms        13796\n",
       "dtype: int64"
      ]
     },
     "execution_count": 8,
     "metadata": {},
     "output_type": "execute_result"
    }
   ],
   "source": [
    "test_df.isna().sum()"
   ]
  },
  {
   "cell_type": "code",
   "execution_count": 9,
   "metadata": {},
   "outputs": [],
   "source": [
    "#Rellenamos nuevamente con el mismo criterio Baños y Habitaciones\n",
    "test_df.fillna({\"bedrooms\":3,\"bathrooms\":2}, inplace=True)"
   ]
  },
  {
   "cell_type": "markdown",
   "metadata": {},
   "source": [
    "Utilizamos el método interpolate() de pandas para completar los nulos, esto genera muchísimo ruido a nuestra predicción ya que no necesariamente los cercanos en el dataframe tienen que estar cargados en conjunto.\n",
    "Al probar el modelo sin estas columnas su rendimiento fue inferior que al agregar las mismas"
   ]
  },
  {
   "cell_type": "code",
   "execution_count": 10,
   "metadata": {},
   "outputs": [],
   "source": [
    "test_df[\"lat\"] = test_df[\"lat\"].interpolate()"
   ]
  },
  {
   "cell_type": "code",
   "execution_count": 11,
   "metadata": {},
   "outputs": [],
   "source": [
    "test_df[\"lon\"] =test_df[\"lon\"].interpolate()"
   ]
  },
  {
   "cell_type": "code",
   "execution_count": 12,
   "metadata": {},
   "outputs": [
    {
     "data": {
      "text/html": [
       "<div>\n",
       "<style scoped>\n",
       "    .dataframe tbody tr th:only-of-type {\n",
       "        vertical-align: middle;\n",
       "    }\n",
       "\n",
       "    .dataframe tbody tr th {\n",
       "        vertical-align: top;\n",
       "    }\n",
       "\n",
       "    .dataframe thead th {\n",
       "        text-align: right;\n",
       "    }\n",
       "</style>\n",
       "<table border=\"1\" class=\"dataframe\">\n",
       "  <thead>\n",
       "    <tr style=\"text-align: right;\">\n",
       "      <th></th>\n",
       "      <th>property_type</th>\n",
       "      <th>l2</th>\n",
       "      <th>lat</th>\n",
       "      <th>lon</th>\n",
       "      <th>bedrooms</th>\n",
       "      <th>bathrooms</th>\n",
       "    </tr>\n",
       "  </thead>\n",
       "  <tbody>\n",
       "  </tbody>\n",
       "</table>\n",
       "</div>"
      ],
      "text/plain": [
       "Empty DataFrame\n",
       "Columns: [property_type, l2, lat, lon, bedrooms, bathrooms]\n",
       "Index: []"
      ]
     },
     "execution_count": 12,
     "metadata": {},
     "output_type": "execute_result"
    }
   ],
   "source": [
    "test_df[test_df[\"lat\"].isna()]"
   ]
  },
  {
   "cell_type": "code",
   "execution_count": 13,
   "metadata": {},
   "outputs": [],
   "source": [
    "#Transformamos los valores que están en string a numérico\n",
    "from sklearn import preprocessing\n",
    "\n",
    "label_encoder = preprocessing.LabelEncoder()\n",
    "  \n",
    "test_df['property_type'] = label_encoder.fit_transform(test_df['property_type'])\n",
    "test_df['l2'] = label_encoder.fit_transform(test_df['l2'])"
   ]
  },
  {
   "cell_type": "code",
   "execution_count": 15,
   "metadata": {},
   "outputs": [],
   "source": [
    "test_df.to_csv(\"test_P.csv\")"
   ]
  }
 ],
 "metadata": {
  "kernelspec": {
   "display_name": "Python 3.10.4 64-bit",
   "language": "python",
   "name": "python3"
  },
  "language_info": {
   "codemirror_mode": {
    "name": "ipython",
    "version": 3
   },
   "file_extension": ".py",
   "mimetype": "text/x-python",
   "name": "python",
   "nbconvert_exporter": "python",
   "pygments_lexer": "ipython3",
   "version": "3.11.0"
  },
  "orig_nbformat": 4,
  "vscode": {
   "interpreter": {
    "hash": "aee8b7b246df8f9039afb4144a1f6fd8d2ca17a180786b69acc140d282b71a49"
   }
  }
 },
 "nbformat": 4,
 "nbformat_minor": 2
}
